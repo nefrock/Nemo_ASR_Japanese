{
 "cells": [
  {
   "cell_type": "code",
   "execution_count": 1,
   "metadata": {},
   "outputs": [],
   "source": [
    "import os\n",
    "import time\n",
    "import json\n",
    "from pathlib import Path\n",
    "\n",
    "import numpy as np\n",
    "import librosa\n",
    "from scipy.io.wavfile import write\n",
    "\n",
    "RATE = 16000"
   ]
  },
  {
   "cell_type": "code",
   "execution_count": 2,
   "metadata": {},
   "outputs": [],
   "source": [
    "NEMO_PATH = Path('/src/NeMo/')\n",
    "NOISE_PATH = Path('/opt/storage/datasets/audio/noise/DNS-Challenge/datasets/noise/')\n",
    "TARGET_PATH = Path('/opt/storage/datasets/audio/japanese/noised')\n",
    "noise_path_list = list(NOISE_PATH.glob('**/*.wav'))"
   ]
  },
  {
   "cell_type": "code",
   "execution_count": 3,
   "metadata": {},
   "outputs": [],
   "source": [
    "decoder = json.JSONDecoder()\n",
    "def read_json(file):\n",
    "    res = []\n",
    "    with open(file, 'r') as f:\n",
    "        line = f.readline()\n",
    "        while line:\n",
    "            res.append(decoder.raw_decode(line)[0])\n",
    "            line = f.readline()\n",
    "    return res"
   ]
  },
  {
   "cell_type": "code",
   "execution_count": 4,
   "metadata": {},
   "outputs": [],
   "source": [
    "train_all = []\n",
    "val_all = []\n",
    "roots = [\n",
    "    '/opt/storage/datasets/audio/japanese/JNAS',\n",
    "    '/opt/storage/datasets/audio/japanese/jvs_ver1',\n",
    "    '/opt/storage/datasets/audio/japanese/CSJ',\n",
    "]\n",
    "\n",
    "# 入れたくないコーパスは適宜コメントアウト\n",
    "\n",
    "for r in roots:\n",
    "    train = Path(r) / 'mix_train_manifest.json'\n",
    "    val = Path(r) / 'mix_val_manifest.json'\n",
    "    \n",
    "    train_all.extend(read_json(train))\n",
    "    val_all.extend(read_json(val))"
   ]
  },
  {
   "cell_type": "code",
   "execution_count": 5,
   "metadata": {},
   "outputs": [],
   "source": [
    "np.random.shuffle(train_all)"
   ]
  },
  {
   "cell_type": "code",
   "execution_count": 6,
   "metadata": {},
   "outputs": [
    {
     "data": {
      "text/plain": [
       "38712"
      ]
     },
     "execution_count": 6,
     "metadata": {},
     "output_type": "execute_result"
    }
   ],
   "source": [
    "len(val_all)"
   ]
  },
  {
   "cell_type": "code",
   "execution_count": 7,
   "metadata": {},
   "outputs": [],
   "source": [
    "def align_length(clean_wav, noise_wav):\n",
    "    before = time.time()\n",
    "    clean_length = len(clean_wav)\n",
    "    noise_length = len(noise_wav)\n",
    "    if clean_length > noise_length:\n",
    "        noise_wav = np.tile(noise_wav, 1+clean_length//noise_length)\n",
    "        noise_length = len(noise_wav)\n",
    "    start = np.random.randint(low=0, high=noise_length-clean_length)\n",
    "    return noise_wav[start: start+clean_length]\n",
    "\n",
    "def synthesize_wav(clean_wav, noise_wav, noise_thresh=(0.1, 0.4)):\n",
    "    now = time.time()\n",
    "    b=time.time()\n",
    "    noise_wav = align_length(clean_wav, noise_wav)\n",
    "    assert len(noise_wav) == len(clean_wav)\n",
    "    noise_coeff = np.random.uniform(*noise_thresh)\n",
    "    \n",
    "    result = clean_wav + noise_coeff * noise_wav\n",
    "    return result\n",
    "\n",
    "def synthesize(clean_path, noise_path_list, num=5):\n",
    "    clean_wav, _ = librosa.load(clean_path, RATE)\n",
    "    noises = np.random.choice(noise_path_list, num)\n",
    "    result = []\n",
    "    for noise_path in noises:\n",
    "        load = time.time()\n",
    "        noise_wav, _ = librosa.load(noise_path, RATE)\n",
    "        noised_wav = synthesize_wav(clean_wav, noise_wav)\n",
    "        result.append(noised_wav)\n",
    "    return result"
   ]
  },
  {
   "cell_type": "code",
   "execution_count": null,
   "metadata": {},
   "outputs": [],
   "source": [
    "noised_train_all = []\n",
    "\n",
    "for i, elem in enumerate(train_all):\n",
    "    try:\n",
    "        \n",
    "        result = synthesize(elem['audio_filepath'], noise_path_list)\n",
    "        for j, wav in enumerate(result):\n",
    "            path = TARGET_PATH / f\"file{i}_{j}.wav\"\n",
    "            write(path, RATE, wav)\n",
    "            noised_train_all.append({\n",
    "                'audio_filepath': str(path),\n",
    "                'duration': elem['duration'],\n",
    "                'text': elem['text']\n",
    "            })\n",
    "    except:\n",
    "        continue"
   ]
  },
  {
   "cell_type": "code",
   "execution_count": null,
   "metadata": {},
   "outputs": [],
   "source": [
    "len(noised_val_all)"
   ]
  },
  {
   "cell_type": "code",
   "execution_count": 12,
   "metadata": {},
   "outputs": [],
   "source": [
    "with open(NEMO_PATH / 'examples/asr/conf/noised_mix_train_manifest-test.json', 'w') as f:\n",
    "    for metadata in noised_train_all:\n",
    "        json.dump(metadata, f, ensure_ascii=False)\n",
    "        f.write('\\n')"
   ]
  },
  {
   "cell_type": "code",
   "execution_count": null,
   "metadata": {},
   "outputs": [],
   "source": [
    "noised_val_all = []\n",
    "for i, elem in enumerate(val_all):\n",
    "    try:\n",
    "        result = synthesize(elem['audio_filepath'], noise_path_list, num=1)\n",
    "        for j, wav in enumerate(result):\n",
    "            path = TARGET_PATH / f\"val_file{i}_{j}.wav\"\n",
    "            write(path, RATE, wav)\n",
    "            noised_val_all.append({\n",
    "                'audio_filepath': str(path),\n",
    "                'duration': elem['duration'],\n",
    "                'text': elem['text']\n",
    "            })\n",
    "    except:\n",
    "        continue"
   ]
  },
  {
   "cell_type": "code",
   "execution_count": 12,
   "metadata": {},
   "outputs": [],
   "source": [
    "with open(NEMO_PATH / 'examples/asr/conf/noised_mix_val_manifest-test.json', 'w') as f:\n",
    "    for metadata in noised_val_all:\n",
    "        json.dump(metadata, f, ensure_ascii=False)\n",
    "        f.write('\\n')"
   ]
  },
  {
   "cell_type": "code",
   "execution_count": null,
   "metadata": {},
   "outputs": [],
   "source": []
  }
 ],
 "metadata": {
  "kernelspec": {
   "display_name": "Python 3",
   "language": "python",
   "name": "python3"
  },
  "language_info": {
   "codemirror_mode": {
    "name": "ipython",
    "version": 3
   },
   "file_extension": ".py",
   "mimetype": "text/x-python",
   "name": "python",
   "nbconvert_exporter": "python",
   "pygments_lexer": "ipython3",
   "version": "3.8.5"
  }
 },
 "nbformat": 4,
 "nbformat_minor": 4
}
