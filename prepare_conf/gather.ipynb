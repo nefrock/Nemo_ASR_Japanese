{
 "cells": [
  {
   "cell_type": "code",
   "execution_count": 1,
   "metadata": {},
   "outputs": [],
   "source": [
    "import os\n",
    "import json\n",
    "from pathlib import Path"
   ]
  },
  {
   "cell_type": "code",
   "execution_count": 3,
   "metadata": {},
   "outputs": [],
   "source": [
    "NEMO_PATH = Path('/src/NeMo/')"
   ]
  },
  {
   "cell_type": "code",
   "execution_count": 4,
   "metadata": {},
   "outputs": [],
   "source": [
    "import json\n",
    "from pathlib import Path\n",
    "\n",
    "decoder = json.JSONDecoder()\n",
    "def read_json(file):\n",
    "    res = []\n",
    "    with open(file, 'r') as f:\n",
    "        line = f.readline()\n",
    "        while line:\n",
    "            res.append(decoder.raw_decode(line)[0])\n",
    "            line = f.readline()\n",
    "    return res"
   ]
  },
  {
   "cell_type": "code",
   "execution_count": 35,
   "metadata": {},
   "outputs": [],
   "source": [
    "train_all = []\n",
    "val_all = []\n",
    "roots = [\n",
    "    '/opt/storage/datasets/audio/japanese/CSJ',\n",
    "    '/opt/storage/datasets/audio/japanese/jvs_ver1',\n",
    "    '/opt/storage/datasets/audio/japanese/JNAS'\n",
    "]\n",
    "\n",
    "# 入れたくないコーパスは適宜コメントアウト\n",
    "\n",
    "for r in roots:\n",
    "    train = Path(r) / 'mix_train_manifest.json'\n",
    "    val = Path(r) / 'mix_val_manifest.json'\n",
    "    \n",
    "    train_all.extend(read_json(train))\n",
    "    val_all.extend(read_json(val))"
   ]
  },
  {
   "cell_type": "code",
   "execution_count": 37,
   "metadata": {},
   "outputs": [],
   "source": [
    "with open(NEMO_PATH / 'examples/asr/conf/mix_train_manifest-test.json', 'w') as f:\n",
    "    for metadata in train_all:\n",
    "        json.dump(metadata, f, ensure_ascii=False)\n",
    "        f.write('\\n')\n",
    "\n",
    "with open(NEMO_PATH / 'examples/asr/conf/mix_val_manifest-test.json', 'w') as f:\n",
    "    for metadata in val_all:\n",
    "        json.dump(metadata, f, ensure_ascii=False)\n",
    "        f.write('\\n')"
   ]
  },
  {
   "cell_type": "code",
   "execution_count": null,
   "metadata": {},
   "outputs": [],
   "source": []
  }
 ],
 "metadata": {
  "kernelspec": {
   "display_name": "Python 3",
   "language": "python",
   "name": "python3"
  },
  "language_info": {
   "codemirror_mode": {
    "name": "ipython",
    "version": 3
   },
   "file_extension": ".py",
   "mimetype": "text/x-python",
   "name": "python",
   "nbconvert_exporter": "python",
   "pygments_lexer": "ipython3",
   "version": "3.8.5"
  }
 },
 "nbformat": 4,
 "nbformat_minor": 4
}
