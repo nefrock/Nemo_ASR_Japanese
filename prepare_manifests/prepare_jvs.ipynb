{
 "cells": [
  {
   "cell_type": "code",
   "execution_count": 1,
   "metadata": {},
   "outputs": [],
   "source": [
    "import os\n",
    "import json\n",
    "import re\n",
    "\n",
    "import librosa\n",
    "from pathlib import Path\n",
    "from scipy.io.wavfile import write\n",
    "\n",
    "root = '/opt/storage/datasets/audio/japanese/jvs_ver1'\n",
    "os.chdir(root)\n",
    "\n",
    "RATE = 16000"
   ]
  },
  {
   "cell_type": "code",
   "execution_count": 2,
   "metadata": {},
   "outputs": [],
   "source": [
    "transcript_files = sorted(list(Path('.').glob('**/*transcripts_utf8.txt')))"
   ]
  },
  {
   "cell_type": "code",
   "execution_count": 3,
   "metadata": {},
   "outputs": [],
   "source": [
    "def num_there(s):\n",
    "    return any(i.isdigit() for i in s)"
   ]
  },
  {
   "cell_type": "code",
   "execution_count": 4,
   "metadata": {},
   "outputs": [],
   "source": [
    "remove_chars = ['A', '×', '×', '÷', '―', '△', '○', '々', '〇', '〒', '％', '＆', '＋', '／', '０', '１', '２', '３', '４', '５', '６', '７', '８', '９', '＝', '？', '?', 'Ａ', 'Ｂ', 'Ｃ', 'Ｄ', 'Ｅ', 'Ｆ', 'Ｇ', 'Ｈ', 'Ｉ', 'Ｊ', 'Ｋ', 'Ｌ', 'Ｍ', 'Ｎ', 'Ｏ', 'Ｐ', 'Ｑ', 'Ｒ', 'Ｓ', 'Ｔ', 'Ｕ', 'Ｖ', 'Ｗ', 'Ｘ', 'Ｙ', 'ａ', 'ｂ', 'ｅ', 'ｉ', 'ｌ', 'ｍ', 'ｎ', 'ｏ', 'ｐ', '～']# これがあったらデータセットから削除\n",
    "ignore_chars =  ['「', '」', '『', '』', '、', '。', ',', '.', '，', '．']#  これは空白に置換"
   ]
  },
  {
   "cell_type": "code",
   "execution_count": 5,
   "metadata": {},
   "outputs": [],
   "source": [
    "cnt = 0 \n",
    "i = 0\n",
    "removed = 0\n",
    "train_metadata_set = []\n",
    "val_metadata_set = []\n",
    "\n",
    "for tf in transcript_files:\n",
    "    with open(tf, 'r') as f:\n",
    "        transcript = f.read().splitlines()\n",
    "\n",
    "        for line in transcript: # line is like 'BMP05E50 夜空を 赤い 灯 が 点滅しながら 旋回し 十分おきに 照明弾が ゆっくりと 落ちてくる'\n",
    "            wavfile = tf.parent / 'wav24kHz16bit' / (line.split(':')[0] + '.wav')\n",
    "            \n",
    "            if not os.path.exists(wavfile):\n",
    "                continue\n",
    "                \n",
    "            text = \"\".join(line.split(':')[1:]) # 北海道に行ったら、やっぱり、海の幸を食べないと、行った意味がないでしょう。\n",
    "            duration = librosa.core.get_duration(filename=wavfile.absolute())\n",
    "            if duration <= 0.75:\n",
    "                continue\n",
    "            if num_there(text):\n",
    "                removed += 1\n",
    "                continue\n",
    "            remove_flag = False\n",
    "            for c in remove_chars:\n",
    "                if c in text:\n",
    "                    remove_flag = True\n",
    "                    break\n",
    "            if remove_flag:\n",
    "                removed += 1\n",
    "                continue\n",
    "            \n",
    "            for c in ignore_chars:\n",
    "                text = text.replace(c, '')\n",
    "            \n",
    "            metadata = {\n",
    "                \"audio_filepath\": str(wavfile.absolute()),\n",
    "                \"duration\": duration,\n",
    "                \"text\": text\n",
    "            }\n",
    "            i += 1\n",
    "            if i % 20 == 0:\n",
    "                val_metadata_set.append(metadata)\n",
    "            else:\n",
    "                train_metadata_set.append(metadata)"
   ]
  },
  {
   "cell_type": "code",
   "execution_count": 6,
   "metadata": {},
   "outputs": [],
   "source": [
    "with open('mix_train_manifest.json', 'w') as f:\n",
    "    for metadata in train_metadata_set:\n",
    "        json.dump(metadata, f, ensure_ascii=False)\n",
    "        f.write('\\n')\n",
    "\n",
    "with open('mix_val_manifest.json', 'w') as f:\n",
    "    for metadata in val_metadata_set:\n",
    "        json.dump(metadata, f, ensure_ascii=False)\n",
    "        f.write('\\n')"
   ]
  },
  {
   "cell_type": "code",
   "execution_count": 7,
   "metadata": {},
   "outputs": [
    {
     "data": {
      "text/plain": [
       "708"
      ]
     },
     "execution_count": 7,
     "metadata": {},
     "output_type": "execute_result"
    }
   ],
   "source": [
    "removed"
   ]
  },
  {
   "cell_type": "code",
   "execution_count": null,
   "metadata": {},
   "outputs": [],
   "source": []
  }
 ],
 "metadata": {
  "kernelspec": {
   "display_name": "Python 3",
   "language": "python",
   "name": "python3"
  },
  "language_info": {
   "codemirror_mode": {
    "name": "ipython",
    "version": 3
   },
   "file_extension": ".py",
   "mimetype": "text/x-python",
   "name": "python",
   "nbconvert_exporter": "python",
   "pygments_lexer": "ipython3",
   "version": "3.8.5"
  }
 },
 "nbformat": 4,
 "nbformat_minor": 4
}
