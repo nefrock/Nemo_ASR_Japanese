{
 "cells": [
  {
   "cell_type": "code",
   "execution_count": 1,
   "metadata": {},
   "outputs": [],
   "source": [
    "import os\n",
    "import json\n",
    "import re\n",
    "\n",
    "import textgrid\n",
    "import librosa\n",
    "from pathlib import Path\n",
    "from scipy.io.wavfile import write\n",
    "\n",
    "root = '/opt/storage/datasets/audio/japanese/CSJ'\n",
    "os.chdir(root)\n",
    "\n",
    "save_clips = False\n",
    "RATE = 16000"
   ]
  },
  {
   "cell_type": "code",
   "execution_count": 2,
   "metadata": {},
   "outputs": [],
   "source": [
    "transcript_files = sorted(list(Path('TRN/Form2/').glob('**/*.trn')))"
   ]
  },
  {
   "cell_type": "code",
   "execution_count": 3,
   "metadata": {},
   "outputs": [],
   "source": [
    "#!rm -r clips\n",
    "#os.makedirs('clips', exist_ok=True)"
   ]
  },
  {
   "cell_type": "code",
   "execution_count": 6,
   "metadata": {},
   "outputs": [],
   "source": [
    "train_metadata_set = []\n",
    "val_metadata_set = []\n",
    "\n",
    "for i, transcript_file in enumerate(transcript_files):\n",
    "    wavfile = Path(root) / 'WAV' / transcript_file.parent.name / transcript_file.name.replace('.trn', '.wav')\n",
    "    wav, _ = librosa.load(wavfile, RATE)\n",
    "    with open(transcript_file, 'r', encoding='shift_jis') as f:\n",
    "        transcript = f.read().splitlines()\n",
    "    for line in transcript:\n",
    "        if '%' in line: # コメント業は無視\n",
    "            continue\n",
    "        flag = True\n",
    "        if len(re.findall('\\(R', line)) > 0:\n",
    "            continue\n",
    "        if len(re.findall('<', line)) > 0:\n",
    "            continue\n",
    "        if '?' in line or ';' in line:\n",
    "            continue\n",
    "\n",
    "        line = re.sub('\\(F(.+?)\\)', '\\\\1', line)\n",
    "        line = re.sub('\\(D(.+?)\\)', '\\\\1', line)\n",
    "        line = re.sub('\\(A(.+?)\\)', '\\\\1', line)\n",
    "        line = re.sub('\\(O(.+?)\\)', '\\\\1', line)\n",
    "        line = re.sub('\\(K(.+?)\\)', '\\\\1', line)\n",
    "        line = re.sub('\\(M(.+?)\\)', '\\\\1', line) # 補助記号を削除\n",
    "        \n",
    "        if '(' in line:\n",
    "            continue\n",
    "\n",
    "        tag, text = line.split(':')\n",
    "        text = text.replace(')', '')\n",
    "        text = text.replace('2', '二')\n",
    "        tag = tag[:-2]\n",
    "        Id, time = tag.split(' ')\n",
    "        start, end = list(map(float, time.split('-')))\n",
    "        duration = end - start\n",
    "        if duration > 0.75:\n",
    "            path = Path('clips') / (transcript_file.name.replace('.trn', '_') + Id + '.wav')\n",
    "            metadata = {\n",
    "                \"audio_filepath\": str(path.absolute()),\n",
    "                \"duration\": duration,\n",
    "                \"text\": text\n",
    "            }\n",
    "            if i % 20 == 0:\n",
    "                val_metadata_set.append(metadata)\n",
    "            else:\n",
    "                train_metadata_set.append(metadata)\n",
    "            \n",
    "            if save_clips:\n",
    "                audio = wav[int(RATE * start): int(RATE*end)+1]\n",
    "                write(path, RATE, audio)"
   ]
  },
  {
   "cell_type": "code",
   "execution_count": 7,
   "metadata": {},
   "outputs": [],
   "source": [
    "with open('mix_train_manifest.json', 'w') as f:\n",
    "    for metadata in train_metadata_set:\n",
    "        json.dump(metadata, f, ensure_ascii=False)\n",
    "        f.write('\\n')\n",
    "\n",
    "with open('mix_val_manifest.json', 'w') as f:\n",
    "    for metadata in val_metadata_set:\n",
    "        json.dump(metadata, f, ensure_ascii=False)\n",
    "        f.write('\\n')"
   ]
  },
  {
   "cell_type": "code",
   "execution_count": null,
   "metadata": {},
   "outputs": [],
   "source": []
  }
 ],
 "metadata": {
  "kernelspec": {
   "display_name": "Python 3",
   "language": "python",
   "name": "python3"
  },
  "language_info": {
   "codemirror_mode": {
    "name": "ipython",
    "version": 3
   },
   "file_extension": ".py",
   "mimetype": "text/x-python",
   "name": "python",
   "nbconvert_exporter": "python",
   "pygments_lexer": "ipython3",
   "version": "3.8.5"
  }
 },
 "nbformat": 4,
 "nbformat_minor": 4
}
