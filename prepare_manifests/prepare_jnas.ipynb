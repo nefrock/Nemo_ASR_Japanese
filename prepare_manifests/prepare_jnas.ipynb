{
 "cells": [
  {
   "cell_type": "code",
   "execution_count": 1,
   "metadata": {},
   "outputs": [],
   "source": [
    "import os\n",
    "import json\n",
    "import re\n",
    "\n",
    "import librosa\n",
    "from pathlib import Path\n",
    "from scipy.io.wavfile import write\n",
    "\n",
    "root = '/opt/storage/datasets/audio/japanese/JNAS'\n",
    "os.chdir(root)\n",
    "\n",
    "RATE = 16000"
   ]
  },
  {
   "cell_type": "code",
   "execution_count": 2,
   "metadata": {},
   "outputs": [],
   "source": [
    "transcript_files = sorted(list(Path('Transcription/KANJI').glob('**/*.txt')))"
   ]
  },
  {
   "cell_type": "code",
   "execution_count": 3,
   "metadata": {},
   "outputs": [],
   "source": [
    "#!rm -r clips\n",
    "os.makedirs('clips', exist_ok=True)"
   ]
  },
  {
   "cell_type": "code",
   "execution_count": 4,
   "metadata": {},
   "outputs": [],
   "source": [
    "def num_there(s):\n",
    "    return any(i.isdigit() for i in s)"
   ]
  },
  {
   "cell_type": "code",
   "execution_count": 5,
   "metadata": {},
   "outputs": [],
   "source": [
    "remove_chars = ['A', '×', '÷', '―', '△', '○', '々', '〇', '〒', '％', '＆', '＋', '／', '０', '１', '２', '３', '４', '５', '６', '７', '８', '９', '＝', '？', '?', 'Ａ', 'Ｂ', 'Ｃ', 'Ｄ', 'Ｅ', 'Ｆ', 'Ｇ', 'Ｈ', 'Ｉ', 'Ｊ', 'Ｋ', 'Ｌ', 'Ｍ', 'Ｎ', 'Ｏ', 'Ｐ', 'Ｑ', 'Ｒ', 'Ｓ', 'Ｔ', 'Ｕ', 'Ｖ', 'Ｗ', 'Ｘ', 'Ｙ', 'ａ', 'ｂ', 'ｅ', 'ｉ', 'ｌ', 'ｍ', 'ｎ', 'ｏ', 'ｐ', '～']# これがあったらデータセットから削除\n",
    "ignore_chars =  ['「', '」', '『', '』', '、', '。', ',', '.', '，', '．']#  これは空白に置換"
   ]
  },
  {
   "cell_type": "code",
   "execution_count": 6,
   "metadata": {},
   "outputs": [],
   "source": [
    "cnt = 0 # (3591) 数字が入っている文の数。処理が面倒なので一旦無視\n",
    "exist_count = 0 \n",
    "nonexist_count = 0 # wavファイルが存在しない文の数.\n",
    "i = 0\n",
    "train_metadata_set = []\n",
    "val_metadata_set = []\n",
    "removed = 0\n",
    "\n",
    "for tf in transcript_files:\n",
    "    mode = tf.parent.name\n",
    "    speaker = tf.name.replace('_KAN.txt', '')\n",
    "    with open(tf, 'r') as f:\n",
    "        transcript = f.read().splitlines()\n",
    "\n",
    "        for line in transcript: # line is like 'BMP05E50 夜空を 赤い 灯 が 点滅しながら 旋回し 十分おきに 照明弾が ゆっくりと 落ちてくる'\n",
    "            speech_id = line.split(' ')[0]\n",
    "            wavfile_dt = Path('WAVES_DT/') / speaker / mode / (speech_id + '_DT.wav')\n",
    "            wavfile_hs = Path('WAVES_HS/') / speaker / mode / (speech_id + '_HS.wav')\n",
    "            if os.path.exists(wavfile_dt):\n",
    "                wavfile = wavfile_dt\n",
    "            elif os.path.exists(wavfile_hs):\n",
    "                wavfile = wavfile_hs\n",
    "            else:\n",
    "                continue\n",
    "                \n",
    "            text = \"\".join(line.split(' ')[1:]) # text is like 時間で勉強を計るのは悪い\n",
    "            duration = librosa.core.get_duration(filename=wavfile.absolute())\n",
    "            if duration <= 0.75:\n",
    "                continue\n",
    "            if num_there(text):\n",
    "                continue\n",
    "                \n",
    "            remove_flag = False\n",
    "            for c in remove_chars:\n",
    "                if c in text:\n",
    "                    remove_flag = True\n",
    "                    break\n",
    "            if remove_flag:\n",
    "                removed += 1\n",
    "                continue\n",
    "                \n",
    "            for c in ignore_chars:\n",
    "                text = text.replace(c, '')\n",
    "                \n",
    "            #write(path, RATE, audio)\n",
    "            metadata = {\n",
    "                \"audio_filepath\": str(wavfile.absolute()),\n",
    "                \"duration\": duration,\n",
    "                \"text\": text\n",
    "            }\n",
    "            i += 1\n",
    "            if i % 20 == 0:\n",
    "                val_metadata_set.append(metadata)\n",
    "            else:\n",
    "                train_metadata_set.append(metadata)"
   ]
  },
  {
   "cell_type": "code",
   "execution_count": 7,
   "metadata": {},
   "outputs": [
    {
     "data": {
      "text/plain": [
       "2202"
      ]
     },
     "execution_count": 7,
     "metadata": {},
     "output_type": "execute_result"
    }
   ],
   "source": [
    "removed"
   ]
  },
  {
   "cell_type": "code",
   "execution_count": 9,
   "metadata": {},
   "outputs": [],
   "source": [
    "with open('mix_train_manifest.json', 'w') as f:\n",
    "    for metadata in train_metadata_set:\n",
    "        json.dump(metadata, f, ensure_ascii=False)\n",
    "        f.write('\\n')\n",
    "\n",
    "with open('mix_val_manifest.json', 'w') as f:\n",
    "    for metadata in val_metadata_set:\n",
    "        json.dump(metadata, f, ensure_ascii=False)\n",
    "        f.write('\\n')"
   ]
  },
  {
   "cell_type": "code",
   "execution_count": null,
   "metadata": {},
   "outputs": [],
   "source": []
  }
 ],
 "metadata": {
  "kernelspec": {
   "display_name": "Python 3",
   "language": "python",
   "name": "python3"
  },
  "language_info": {
   "codemirror_mode": {
    "name": "ipython",
    "version": 3
   },
   "file_extension": ".py",
   "mimetype": "text/x-python",
   "name": "python",
   "nbconvert_exporter": "python",
   "pygments_lexer": "ipython3",
   "version": "3.8.5"
  }
 },
 "nbformat": 4,
 "nbformat_minor": 4
}
